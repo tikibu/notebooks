{
 "cells": [
  {
   "cell_type": "markdown",
   "metadata": {},
   "source": [
    "Negative downsampling (CTR prediction)\n",
    "========\n",
    "\n",
    "When you have a binary classification problem of predicting clicks, the classes \"clicked\" and \"not clicked\" are skewed: there are much more impressions w/o clicks than there are impressions with clicks.\n",
    "\n",
    "It turns out that prediction quality often improves if some samples of negative classes are removed. Of course, it makes a lot of sense to optimize sampling rate (do a hyperparameter optimization), but a good start is often sampling rate that brings classes proportions to roughly 1:1.\n",
    "\n",
    "After downsampling you just need to re-calibrate the output of a model.\n",
    "\n",
    "The recalibration formula:\n",
    "$q = \\frac{p}{p+\\frac{1-p}{w}} $  Where p is the output of your predictor trained on downsampled data, and q - the probability you need, and w is a sampling rate.\n",
    "\n",
    "Target sample rate for 1:1 proportion of classes:\n",
    "\n",
    "$w = \\frac{ctr}{1-ctr}$  \n",
    "\n",
    "You can also notice that when ctr is small,  $w  \\approx ctr$."
   ]
  },
  {
   "cell_type": "code",
   "execution_count": 1,
   "metadata": {
    "collapsed": true
   },
   "outputs": [],
   "source": [
    "import numpy as np\n",
    "import matplotlib.pyplot as plt\n",
    "import seaborn as sns"
   ]
  },
  {
   "cell_type": "markdown",
   "metadata": {},
   "source": [
    "Let's generate some data: clicks."
   ]
  },
  {
   "cell_type": "code",
   "execution_count": 68,
   "metadata": {
    "collapsed": false
   },
   "outputs": [],
   "source": [
    "N=200000000\n",
    "ideal_ctr = 0.012\n",
    "w = ideal_ctr / (1. - ideal_ctr)\n",
    "clicks = (np.random.rand(N)<ideal_ctr)*1"
   ]
  },
  {
   "cell_type": "markdown",
   "metadata": {},
   "source": [
    "Clicks is now an array with zeros and ones (ones - where you've got a click)"
   ]
  },
  {
   "cell_type": "code",
   "execution_count": 69,
   "metadata": {
    "collapsed": false
   },
   "outputs": [
    {
     "data": {
      "text/plain": [
       "array([0, 0, 0, ..., 0, 0, 0])"
      ]
     },
     "execution_count": 69,
     "metadata": {},
     "output_type": "execute_result"
    }
   ],
   "source": [
    "clicks"
   ]
  },
  {
   "cell_type": "code",
   "execution_count": 70,
   "metadata": {
    "collapsed": true
   },
   "outputs": [],
   "source": [
    "def recalibrate(p,w):\n",
    "    return p / (p + (1. - p)/w)"
   ]
  },
  {
   "cell_type": "markdown",
   "metadata": {},
   "source": [
    "Original CTR"
   ]
  },
  {
   "cell_type": "code",
   "execution_count": 71,
   "metadata": {
    "collapsed": false
   },
   "outputs": [
    {
     "data": {
      "text/plain": [
       "0.011986775"
      ]
     },
     "execution_count": 71,
     "metadata": {},
     "output_type": "execute_result"
    }
   ],
   "source": [
    "ctr = clicks.sum()/float(len(clicks))\n",
    "ctr"
   ]
  },
  {
   "cell_type": "markdown",
   "metadata": {},
   "source": [
    "Let's prepare our \"training\" set: we take all clicks, and for impressions w/o clicks, we only take some of them, with a sampling rate w"
   ]
  },
  {
   "cell_type": "code",
   "execution_count": 72,
   "metadata": {
    "collapsed": false
   },
   "outputs": [],
   "source": [
    "c2=clicks[((clicks>0)|((clicks<1)&(np.random.rand(len(clicks))<w)))]"
   ]
  },
  {
   "cell_type": "markdown",
   "metadata": {},
   "source": [
    "CTR in a new set is about 50%, exactly where we want it."
   ]
  },
  {
   "cell_type": "code",
   "execution_count": 73,
   "metadata": {
    "collapsed": false
   },
   "outputs": [
    {
     "data": {
      "text/plain": [
       "0.49952242975737682"
      ]
     },
     "execution_count": 73,
     "metadata": {},
     "output_type": "execute_result"
    }
   ],
   "source": [
    "ctr2=c2.sum()/float(len(c2))\n",
    "ctr2"
   ]
  },
  {
   "cell_type": "markdown",
   "metadata": {},
   "source": [
    "And recalibrated ctr is very close to the original one."
   ]
  },
  {
   "cell_type": "code",
   "execution_count": 74,
   "metadata": {
    "collapsed": false
   },
   "outputs": [
    {
     "data": {
      "text/plain": [
       "0.011977372802274792"
      ]
     },
     "execution_count": 74,
     "metadata": {},
     "output_type": "execute_result"
    }
   ],
   "source": [
    "recalibrate(ctr2, w)"
   ]
  },
  {
   "cell_type": "markdown",
   "metadata": {},
   "source": [
    "Our new dataset size is about $2\\cdot ctr \\cdot original\\ dataset\\ size$, which is approx 1/50 of what it was."
   ]
  }
 ],
 "metadata": {
  "kernelspec": {
   "display_name": "Python 2",
   "language": "python",
   "name": "python2"
  },
  "language_info": {
   "codemirror_mode": {
    "name": "ipython",
    "version": 2
   },
   "file_extension": ".py",
   "mimetype": "text/x-python",
   "name": "python",
   "nbconvert_exporter": "python",
   "pygments_lexer": "ipython2",
   "version": "2.7.6"
  }
 },
 "nbformat": 4,
 "nbformat_minor": 2
}
